{
 "cells": [
  {
   "cell_type": "code",
   "execution_count": 2,
   "metadata": {},
   "outputs": [],
   "source": [
    "#descargo los modulos y librerias que se utilizan \n",
    "import matplotlib.pyplot as plt\n",
    "import numpy as np\n",
    "import pandas as pd\n",
    "import os\n",
    "import re"
   ]
  },
  {
   "cell_type": "code",
   "execution_count": 9,
   "metadata": {},
   "outputs": [],
   "source": [
    "def freq_to_Hz(name):\n",
    "    items = re.split('(\\d+)', name)\n",
    "    value = int(items[1])\n",
    "    unit = items[2]\n",
    "    if unit == 'khz':\n",
    "        value = value*1000\n",
    "    elif unit == 'Mhz':\n",
    "        value = value*1000000\n",
    "    return value"
   ]
  },
  {
   "cell_type": "code",
   "execution_count": 11,
   "metadata": {},
   "outputs": [
    {
     "data": {
      "text/plain": [
       "10000000"
      ]
     },
     "execution_count": 11,
     "metadata": {},
     "output_type": "execute_result"
    }
   ],
   "source": [
    "freq_to_Hz('10Mhz')"
   ]
  },
  {
   "cell_type": "code",
   "execution_count": null,
   "metadata": {},
   "outputs": [],
   "source": []
  },
  {
   "cell_type": "code",
   "execution_count": 18,
   "metadata": {},
   "outputs": [],
   "source": [
    "\n",
    "data = {}\n",
    "\n",
    "for j,file in enumerate(os.listdir('Gain/data/')): #estoy diciendo que me recorra cada archivo de esa carpeta\n",
    "    \n",
    "    if os.path.splitext(file)[1] != 'npy':\n",
    "        name = os.path.splitext(file)[0].split('_')\n",
    "    \n",
    "        chanel = name[0]\n",
    "        freq = name[1]\n",
    "        \n",
    "        data[freq] = {'ch1': [],'ch2': [], 't': []}\n",
    "        \n",
    "        file_data = np.load(f'Gain/data/{chanel}_{freq}__data.csv.npy',allow_pickle=True).tolist()\n",
    "        vdiv = float(file_data['V_div'])\n",
    "        ofst = float(file_data['offset'])\n",
    "        tdiv = float(file_data['T_div'])\n",
    "        #N = int(file_data['n_meas'])\n",
    "        if chanel == 'ch1':\n",
    "            data[freq]['ch1'] = np.loadtxt(f\"Gain/data/ch1_{freq}_.csv\",dtype=float)/32*float(vdiv)-float(ofst) #intr ricky\n",
    "            N = len(data[freq]['ch1'])\n",
    "            data[freq]['t'] = np.linspace(-tdiv*14/2,-tdiv*14/2+1,N) #intrucciones de ricky\n",
    "        if chanel == 'ch2':\n",
    "            data[freq]['ch2'] = np.loadtxt(f\"Gain/data/ch2_{freq}_.csv\",dtype=float)/32*float(vdiv)-float(ofst) #intr ricky\n",
    "    "
   ]
  },
  {
   "cell_type": "code",
   "execution_count": 19,
   "metadata": {},
   "outputs": [
    {
     "data": {
      "text/plain": [
       "dict_keys(['100hz', '100khz', '10khz', '10Mhz', '12hz', '150hz', '16hz', '1khz', '1Mhz', '200hz', '200khz', '300hz', '300khz', '3Mhz', '400hz', '500hz', '500khz', '50hz', '5Mhz', '600hz', '700hz', '800hz', '800khz', '80khz', '8hz', '8Mhz', '900hz'])"
      ]
     },
     "execution_count": 19,
     "metadata": {},
     "output_type": "execute_result"
    }
   ],
   "source": [
    "data.keys()"
   ]
  },
  {
   "cell_type": "code",
   "execution_count": 20,
   "metadata": {},
   "outputs": [],
   "source": [
    "ch1 = data['100hz']['ch1']\n",
    "ch2 = data['100hz']['ch2']\n",
    "t = data['100hz']['t']"
   ]
  },
  {
   "cell_type": "code",
   "execution_count": null,
   "metadata": {},
   "outputs": [],
   "source": []
  },
  {
   "cell_type": "code",
   "execution_count": null,
   "metadata": {},
   "outputs": [],
   "source": []
  },
  {
   "cell_type": "code",
   "execution_count": null,
   "metadata": {},
   "outputs": [],
   "source": []
  },
  {
   "cell_type": "code",
   "execution_count": null,
   "metadata": {},
   "outputs": [],
   "source": []
  }
 ],
 "metadata": {
  "kernelspec": {
   "display_name": "Python 3",
   "language": "python",
   "name": "python3"
  },
  "language_info": {
   "codemirror_mode": {
    "name": "ipython",
    "version": 3
   },
   "file_extension": ".py",
   "mimetype": "text/x-python",
   "name": "python",
   "nbconvert_exporter": "python",
   "pygments_lexer": "ipython3",
   "version": "3.8.5"
  }
 },
 "nbformat": 4,
 "nbformat_minor": 4
}
